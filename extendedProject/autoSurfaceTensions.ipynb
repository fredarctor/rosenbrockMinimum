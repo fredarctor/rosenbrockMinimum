{
 "cells": [
  {
   "cell_type": "code",
   "execution_count": 61,
   "id": "ab2aff54",
   "metadata": {},
   "outputs": [],
   "source": [
    "from exif import Image\n",
    "import os\n",
    "import numpy as np\n",
    "import pandas as pd\n",
    "import matplotlib.pyplot as plt\n",
    "from scipy.optimize import curve_fit\n",
    "import os\n",
    "import cv2\n",
    "import imutils"
   ]
  },
  {
   "cell_type": "markdown",
   "id": "b3760007",
   "metadata": {},
   "source": [
    "This code names the photos in a folder according to their time taken and puts them in a sorted array"
   ]
  },
  {
   "cell_type": "code",
   "execution_count": 62,
   "id": "33cb7c09",
   "metadata": {},
   "outputs": [
    {
     "name": "stdout",
     "output_type": "stream",
     "text": [
      "['blackCardTest/2023:03:20 11:57:54.jpg', 'blackCardTest/2023:03:20 11:57:59.jpg', 'blackCardTest/2023:03:20 11:58:05.jpg', 'blackCardTest/2023:03:20 11:58:09.jpg', 'blackCardTest/2023:03:20 11:58:13.jpg', 'blackCardTest/2023:03:20 11:58:18.jpg', 'blackCardTest/2023:03:20 11:58:22.jpg', 'blackCardTest/2023:03:20 11:58:27.jpg', 'blackCardTest/2023:03:20 11:58:31.jpg', 'blackCardTest/2023:03:20 11:58:35.jpg', 'blackCardTest/2023:03:20 11:58:40.jpg', 'blackCardTest/2023:03:20 11:58:44.jpg', 'blackCardTest/2023:03:20 11:58:51.jpg', 'blackCardTest/2023:03:20 11:58:56.jpg', 'blackCardTest/2023:03:20 11:59:01.jpg', 'blackCardTest/2023:03:20 11:59:06.jpg', 'blackCardTest/2023:03:20 11:59:11.jpg', 'blackCardTest/2023:03:20 11:59:17.jpg', 'blackCardTest/2023:03:20 11:59:24.jpg', 'blackCardTest/2023:03:20 11:59:29.jpg', 'blackCardTest/2023:03:20 11:59:35.jpg']\n"
     ]
    }
   ],
   "source": [
    "path=\"blackCardTest/\" #Folder where images are\n",
    "photos = [] #Array for filepaths\n",
    "for filename in os.listdir(path):\n",
    "    my_source = path + filename\n",
    "    if Image(my_source).has_exif: #Checks for exif data\n",
    "        my_dest = Image(my_source).datetime_original + \".jpg\" #The time taken + .jpg\n",
    "      \n",
    "    my_dest = path + my_dest\n",
    "    os.rename(my_source, my_dest) #Renames the images\n",
    "    photos.append(my_dest) #Adds the filepath of the image to an array\n",
    "    \n",
    "photos.sort() #Sorts the array by time taken\n",
    "print(photos)"
   ]
  },
  {
   "cell_type": "markdown",
   "id": "12d96f07",
   "metadata": {},
   "source": [
    "This code finds the separation between points for each photo and draws a line for visualisation"
   ]
  },
  {
   "cell_type": "code",
   "execution_count": 63,
   "id": "301271a2",
   "metadata": {},
   "outputs": [
    {
     "name": "stdout",
     "output_type": "stream",
     "text": [
      "[0.012538521660306185, 0.011779239348698222, 0.012263361370959373, 0.011779239348698222, 0.012194572765958716, 0.012607313151941028, 0.011641640873903961, 0.012125784767870396, 0.01240094036129875, 0.01281646451312156, 0.01322914734899002, 0.013504281795664853, 0.013985789226984272, 0.014398530497446795, 0.017630158697703457, 0.015020356651730063, 0.01563685291329756, 0.017086708730458918, 0.017499433716995756, 0.017912173800437404, 0.01770325893318093]\n"
     ]
    }
   ],
   "source": [
    "seps = []\n",
    "freq = []\n",
    "i = 140\n",
    "\n",
    "#Finds the separation values of each pattern, as well as draws a line to visualise each plot\n",
    "for filename in photos:\n",
    "    image = cv2.imread(filename)\n",
    "    gray = cv2.cvtColor(image, cv2.COLOR_BGR2GRAY)\n",
    "    blurred = cv2.GaussianBlur(gray, (89, 89), 0)\n",
    "    thresh = cv2.threshold(blurred, 60, 255, cv2.THRESH_BINARY)[1]\n",
    "    \n",
    "    # find contours in the thresholded image\n",
    "    cnts = cv2.findContours(thresh.copy(), cv2.RETR_EXTERNAL,\n",
    "        cv2.CHAIN_APPROX_SIMPLE)\n",
    "    cnts = imutils.grab_contours(cnts)\n",
    "    \n",
    "    #Centre of second maxima\n",
    "    M = cv2.moments(cnts[1])\n",
    "    if M[\"m00\"] != 0:\n",
    "        startX = int(M[\"m10\"] / M[\"m00\"])\n",
    "        startY = int(M[\"m01\"] / M[\"m00\"])\n",
    "    else:\n",
    "        startX = 0\n",
    "        startY = 0\n",
    "    \n",
    "    #Centre of third maxima\n",
    "    N = cv2.moments(cnts[2])\n",
    "    if N[\"m00\"] != 0:\n",
    "        endX = int(N[\"m10\"] / N[\"m00\"])\n",
    "        endY = int(N[\"m01\"] / N[\"m00\"])\n",
    "    else:\n",
    "        endX = 0\n",
    "        endY = 0\n",
    "    \n",
    "    #Separation using pythag \n",
    "    separation = np.sqrt((endY - startY)**2 + (endX - startX)**2)/14526\n",
    "    cv2.line(image, (startX, startY), (endX, endY), (0, 255, 0), thickness=2) #Paint line on image\n",
    "    cv2.imwrite(\"blackCardTestLines/\" + str(i) + \"_Line.jpeg\", image) #Save image with the line\n",
    "    seps.append(separation) #Put separation value into array\n",
    "    freq.append(i) #Put frequency value into array\n",
    "    \n",
    "    i += 10\n",
    "\n",
    "print(seps)"
   ]
  },
  {
   "cell_type": "code",
   "execution_count": 64,
   "id": "a210d315",
   "metadata": {},
   "outputs": [
    {
     "name": "stdout",
     "output_type": "stream",
     "text": [
      "0     2.710931e+09\n",
      "1     2.247663e+09\n",
      "2     2.536343e+09\n",
      "3     2.247663e+09\n",
      "4     2.493901e+09\n",
      "5     2.755796e+09\n",
      "6     2.169812e+09\n",
      "7     2.451935e+09\n",
      "8     2.622668e+09\n",
      "9     2.895237e+09\n",
      "10    3.184014e+09\n",
      "11    3.386834e+09\n",
      "12    3.762187e+09\n",
      "13    4.105196e+09\n",
      "14    7.536125e+09\n",
      "15    4.660368e+09\n",
      "16    5.258084e+09\n",
      "17    6.860483e+09\n",
      "18    7.369727e+09\n",
      "19    7.903588e+09\n",
      "20    7.630256e+09\n",
      "dtype: float64\n",
      "0     7.737770e+05\n",
      "1     8.882644e+05\n",
      "2     1.010647e+06\n",
      "3     1.140926e+06\n",
      "4     1.279101e+06\n",
      "5     1.425171e+06\n",
      "6     1.579137e+06\n",
      "7     1.740998e+06\n",
      "8     1.910755e+06\n",
      "9     2.088408e+06\n",
      "10    2.273957e+06\n",
      "11    2.467401e+06\n",
      "12    2.668741e+06\n",
      "13    2.877977e+06\n",
      "14    3.095108e+06\n",
      "15    3.320135e+06\n",
      "16    3.553058e+06\n",
      "17    3.793876e+06\n",
      "18    4.042590e+06\n",
      "19    4.299200e+06\n",
      "20    4.563705e+06\n",
      "dtype: float64\n"
     ]
    }
   ],
   "source": [
    "length = 2.583\n",
    "deltaL = 0.001\n",
    "deltaD = 2/15725\n",
    "hVal = 0.15\n",
    "deltaH = 0.005099\n",
    "laserLambda = 0.000000633\n",
    "kval = (np.pi * hVal * pd.Series(seps))/(laserLambda * (hVal**2 + length**2))\n",
    "omega = 2 * np.pi * pd.Series(freq)\n",
    "\n",
    "deltaKfromL = (pd.Series(seps) * hVal * 2 * length) * (1/((hVal**2 + length**2)**2)) * deltaL #DeltaK from length\n",
    "deltaKfromD = hVal * (1/(hVal**2 + length**2)) * deltaD #DeltaK from separations\n",
    "deltaKfromH = (pd.Series(seps)) * (length**2 - hVal**2) *(1/((hVal**2 + length**2)**2)) * deltaH #DeltaK from height calc\n",
    "\n",
    "deltaK = (np.pi/laserLambda) * (deltaKfromL + deltaKfromD + deltaKfromH) #Uncertainty in k\n",
    "deltaKCube = 3*(kval ** 2) * deltaK #Uncertainty in k cube\n",
    "omegasq = omega ** 2\n",
    "kcube = kval ** 3\n",
    "\n",
    "print(kcube)\n",
    "print(omegasq)"
   ]
  },
  {
   "cell_type": "code",
   "execution_count": 66,
   "id": "ae9b3b81",
   "metadata": {},
   "outputs": [
    {
     "name": "stdout",
     "output_type": "stream",
     "text": [
      "0.0005210711232612835\n"
     ]
    },
    {
     "data": {
      "text/plain": [
       "<matplotlib.legend.Legend at 0x7f8d754bf6a0>"
      ]
     },
     "execution_count": 66,
     "metadata": {},
     "output_type": "execute_result"
    },
    {
     "data": {
      "image/png": "[encoded data removed]",
      "text/plain": [
       "<Figure size 1000x800 with 1 Axes>"
      ]
     },
     "metadata": {},
     "output_type": "display_data"
    }
   ],
   "source": [
    "plt.rcParams['font.size'] = 15\n",
    "fig = plt.figure(figsize=(10,8))\n",
    "ax = fig.add_subplot(1, 1, 1)\n",
    "\n",
    "ax.set_xlabel('k³')\n",
    "ax.set_ylabel('ω²')\n",
    "\n",
    "def line(x, slope, intercept):          # Set up the linear fitting - don't ammend\n",
    "    return slope*x + intercept          # More set up, leave alone.\n",
    "\n",
    "# Next few line, fits a line to the (x data, and y data) no need to change things.\n",
    "popt, pcov = curve_fit(line,kcube,omegasq)\n",
    "slope = popt[0]\n",
    "intercept = popt[1]\n",
    "err_slope = np.sqrt(float(pcov[0][0]))\n",
    "err_intercept = np.sqrt(float(pcov[1][1]))\n",
    "\n",
    "print(slope)\n",
    "\n",
    "ax.scatter(kcube, omegasq)\n",
    "ax.errorbar(kcube,           \n",
    "             omegasq,                   \n",
    "             marker='o',             \n",
    "             markersize = 4,\n",
    "             markerfacecolor = 'black',\n",
    "             color='black',          \n",
    "             linestyle='none',       \n",
    "             capsize=6,              \n",
    "           )\n",
    "\n",
    "ax.plot(kcube, kcube*slope+intercept, \n",
    "         linestyle='--',\n",
    "         color='black',\n",
    "         label='Best fit to the data')\n",
    "\n",
    "ax.legend(loc=\"upper left\")\n",
    "\n"
   ]
  },
  {
   "cell_type": "code",
   "execution_count": 59,
   "id": "901b53e1",
   "metadata": {},
   "outputs": [],
   "source": [
    "def line(x, slope, intercept):          # Set up the linear fitting - don't ammend\n",
    "    return slope*x + intercept          # More set up, leave alone.\n",
    "\n",
    "# Next few line, fits a line to the (x data, and y data) no need to change things.\n",
    "popt, pcov = curve_fit(line,kcube,omegasq)\n",
    "slope = popt[0]\n",
    "intercept = popt[1]\n",
    "err_slope = np.sqrt(float(pcov[0][0]))\n",
    "err_intercept = np.sqrt(float(pcov[1][1]))"
   ]
  },
  {
   "cell_type": "code",
   "execution_count": 60,
   "id": "3366f0f6",
   "metadata": {},
   "outputs": [
    {
     "name": "stdout",
     "output_type": "stream",
     "text": [
      "5.204257008053521e-07\n"
     ]
    }
   ],
   "source": []
  },
  {
   "cell_type": "code",
   "execution_count": null,
   "id": "5b064190",
   "metadata": {},
   "outputs": [],
   "source": []
  }
 ],
 "metadata": {
  "kernelspec": {
   "display_name": "Python 3 (ipykernel)",
   "language": "python",
   "name": "python3"
  },
  "language_info": {
   "codemirror_mode": {
    "name": "ipython",
    "version": 3
   },
   "file_extension": ".py",
   "mimetype": "text/x-python",
   "name": "python",
   "nbconvert_exporter": "python",
   "pygments_lexer": "ipython3",
   "version": "3.10.9"
  }
 },
 "nbformat": 4,
 "nbformat_minor": 5
}
