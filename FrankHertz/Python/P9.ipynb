{
 "cells": [
  {
   "cell_type": "code",
   "execution_count": 1,
   "id": "8c0b8d54",
   "metadata": {},
   "outputs": [],
   "source": [
    "import pandas as pd\n",
    "from matplotlib import pyplot as plt\n",
    "import numpy as np"
   ]
  },
  {
   "cell_type": "code",
   "execution_count": 4,
   "id": "4f18d891",
   "metadata": {
    "scrolled": false
   },
   "outputs": [
    {
     "name": "stdout",
     "output_type": "stream",
     "text": [
      "0      0.055\n",
      "1      0.060\n",
      "2      0.075\n",
      "3      0.075\n",
      "4      0.070\n",
      "       ...  \n",
      "383    3.425\n",
      "384    3.425\n",
      "385    3.425\n",
      "386    3.425\n",
      "387    3.425\n",
      "Name: Voltage U_B1 / V, Length: 388, dtype: float64\n",
      "0      0.005\n",
      "1      0.005\n",
      "2      0.005\n",
      "3      0.005\n",
      "4      0.005\n",
      "       ...  \n",
      "383    3.185\n",
      "384    3.180\n",
      "385    3.185\n",
      "386    3.180\n",
      "387    3.180\n",
      "Name: Voltage U_A1 / V, Length: 388, dtype: float64\n",
      "     Voltage U_A1 / V  Voltage U_B1 / V\n",
      "0               0.005             0.055\n",
      "1               0.005             0.060\n",
      "2               0.005             0.075\n",
      "3               0.005             0.075\n",
      "4               0.005             0.070\n",
      "..                ...               ...\n",
      "383             3.185             3.425\n",
      "384             3.180             3.425\n",
      "385             3.185             3.425\n",
      "386             3.180             3.425\n",
      "387             3.180             3.425\n",
      "\n",
      "[388 rows x 2 columns]\n"
     ]
    },
    {
     "data": {
      "image/png": "[encoded data removed]",
      "text/plain": [
       "<Figure size 640x480 with 1 Axes>"
      ]
     },
     "metadata": {},
     "output_type": "display_data"
    }
   ],
   "source": [
    "\n",
    "\n",
    "x = pd.read_csv('../Data/180a.csv')\n",
    "y = pd.read_csv('../Data/180a.csv')\n",
    "\n",
    "ser = pd.Series(x['Voltage U_A1 / V'])\n",
    "x = pd.to_numeric(ser)\n",
    "\n",
    "ser = pd.Series(y['Voltage U_B1 / V'])\n",
    "y = pd.to_numeric(ser)\n",
    "print(y)\n",
    "print(x)\n",
    "\n",
    "data = pd.concat([x, y], axis = 1)\n",
    "plt.scatter(x,y)\n",
    "\n",
    "\n",
    "\n",
    "print(data)"
   ]
  },
  {
   "cell_type": "code",
   "execution_count": 5,
   "id": "ff63faa7",
   "metadata": {},
   "outputs": [],
   "source": [
    "ymin = np.zeros(120)"
   ]
  },
  {
   "cell_type": "code",
   "execution_count": 6,
   "id": "a157c5c2",
   "metadata": {
    "scrolled": false
   },
   "outputs": [
    {
     "ename": "NameError",
     "evalue": "name 'xmax' is not defined",
     "output_type": "error",
     "traceback": [
      "\u001b[0;31m---------------------------------------------------------------------------\u001b[0m",
      "\u001b[0;31mNameError\u001b[0m                                 Traceback (most recent call last)",
      "Cell \u001b[0;32mIn [6], line 1\u001b[0m\n\u001b[0;32m----> 1\u001b[0m \u001b[43mxmax\u001b[49m[xmax\u001b[38;5;241m>\u001b[39m\u001b[38;5;241m0.1\u001b[39m]\n",
      "\u001b[0;31mNameError\u001b[0m: name 'xmax' is not defined"
     ]
    }
   ],
   "source": [
    "xmax[xmax>0.1]"
   ]
  },
  {
   "cell_type": "code",
   "execution_count": 265,
   "id": "a10a4548",
   "metadata": {},
   "outputs": [
    {
     "data": {
      "text/plain": [
       "array([], dtype=float64)"
      ]
     },
     "execution_count": 265,
     "metadata": {},
     "output_type": "execute_result"
    }
   ],
   "source": [
    "ymax[ymax>1]"
   ]
  },
  {
   "cell_type": "code",
   "execution_count": 273,
   "id": "e67ebae8",
   "metadata": {},
   "outputs": [],
   "source": [
    "xmin = \n",
    "def min(y):\n",
    "    for i in range(1, 112):\n",
    "        if y[i]<y[i+1] and y[i]<y[i-1]:\n",
    "            ymin[i] = y[i]\n",
    "\n",
    "    print(ymin)"
   ]
  },
  {
   "cell_type": "code",
   "execution_count": 276,
   "id": "8f2b2768",
   "metadata": {},
   "outputs": [
    {
     "name": "stdout",
     "output_type": "stream",
     "text": [
      "[0.         0.10712143 0.         0.         0.         0.10977249\n",
      " 0.         0.43746428 0.         0.11       0.         0.\n",
      " 0.         0.10805091 0.         0.         0.         0.\n",
      " 0.04743416 0.         0.         0.         0.         0.\n",
      " 0.         0.         0.         0.         0.         0.\n",
      " 0.         0.         0.         0.         0.         0.\n",
      " 0.08351647 0.         0.         0.         0.         0.\n",
      " 0.         0.         0.         0.         0.         0.\n",
      " 0.         0.         0.         0.         0.         0.\n",
      " 0.17797472 0.         0.         0.         0.         0.\n",
      " 0.         0.         0.         0.         0.         0.\n",
      " 0.         0.         0.         0.39423977 0.         0.\n",
      " 0.         0.         0.         0.         0.         0.\n",
      " 0.         0.         0.         0.         0.         0.\n",
      " 0.         0.         0.         0.         0.79167544 0.\n",
      " 0.         0.         0.         0.         0.         0.\n",
      " 0.         0.         0.         0.         0.         0.\n",
      " 0.         0.         1.40654719 0.         1.28160056 0.\n",
      " 0.         3.05377635 0.         1.38646132 0.         0.\n",
      " 0.         0.         0.         0.         0.         0.        ]\n"
     ]
    }
   ],
   "source": [
    "min(x)"
   ]
  },
  {
   "cell_type": "code",
   "execution_count": 270,
   "id": "81cb25ae",
   "metadata": {},
   "outputs": [
    {
     "data": {
      "text/plain": [
       "array([1.01990196, 2.18537754, 3.23969906, 4.14176895, 4.81455086,\n",
       "       3.05750715, 1.41372734, 1.46225853, 3.05666076])"
      ]
     },
     "execution_count": 270,
     "metadata": {},
     "output_type": "execute_result"
    }
   ],
   "source": [
    "ymax[ymax>1]"
   ]
  },
  {
   "cell_type": "code",
   "execution_count": null,
   "id": "3456bf79",
   "metadata": {},
   "outputs": [],
   "source": [
    "def ind"
   ]
  },
  {
   "cell_type": "code",
   "execution_count": null,
   "id": "32ed50b7",
   "metadata": {},
   "outputs": [],
   "source": []
  }
 ],
 "metadata": {
  "kernelspec": {
   "display_name": "Python 3 (ipykernel)",
   "language": "python",
   "name": "python3"
  },
  "language_info": {
   "codemirror_mode": {
    "name": "ipython",
    "version": 3
   },
   "file_extension": ".py",
   "mimetype": "text/x-python",
   "name": "python",
   "nbconvert_exporter": "python",
   "pygments_lexer": "ipython3",
   "version": "3.10.8"
  }
 },
 "nbformat": 4,
 "nbformat_minor": 5
}
